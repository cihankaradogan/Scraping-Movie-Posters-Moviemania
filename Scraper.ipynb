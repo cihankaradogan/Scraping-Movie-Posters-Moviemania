{
  "cells": [
    {
      "cell_type": "markdown",
      "metadata": {
        "id": "view-in-github",
        "colab_type": "text"
      },
      "source": [
        "<a href=\"https://colab.research.google.com/github/cihankaradogan/Scraping-Movie-Posters-Moviemania/blob/main/Scraper.ipynb\" target=\"_parent\"><img src=\"https://colab.research.google.com/assets/colab-badge.svg\" alt=\"Open In Colab\"/></a>"
      ]
    },
    {
      "cell_type": "code",
      "execution_count": null,
      "id": "db7ad462",
      "metadata": {
        "id": "db7ad462"
      },
      "outputs": [],
      "source": [
        "ls"
      ]
    },
    {
      "cell_type": "code",
      "execution_count": null,
      "id": "63247079",
      "metadata": {
        "id": "63247079"
      },
      "outputs": [],
      "source": [
        "from bs4 import BeautifulSoup"
      ]
    },
    {
      "cell_type": "code",
      "execution_count": null,
      "id": "d5145721",
      "metadata": {
        "id": "d5145721"
      },
      "outputs": [],
      "source": [
        "import requests"
      ]
    },
    {
      "cell_type": "code",
      "execution_count": null,
      "id": "21e7bfb1",
      "metadata": {
        "id": "21e7bfb1",
        "outputId": "545e4304-f535-4594-a19e-bf2df395898e"
      },
      "outputs": [
        {
          "name": "stdout",
          "output_type": "stream",
          "text": [
            "Collecting webdriver-manager\n",
            "  Downloading webdriver_manager-3.5.2-py2.py3-none-any.whl (17 kB)\n",
            "Requirement already satisfied: requests in /opt/anaconda3/envs/vqgan/lib/python3.9/site-packages (from webdriver-manager) (2.26.0)\n",
            "Collecting crayons\n",
            "  Downloading crayons-0.4.0-py2.py3-none-any.whl (4.6 kB)\n",
            "Collecting configparser\n",
            "  Downloading configparser-5.2.0-py3-none-any.whl (19 kB)\n",
            "Collecting colorama\n",
            "  Downloading colorama-0.4.4-py2.py3-none-any.whl (16 kB)\n",
            "Requirement already satisfied: certifi>=2017.4.17 in /opt/anaconda3/envs/vqgan/lib/python3.9/site-packages (from requests->webdriver-manager) (2021.10.8)\n",
            "Requirement already satisfied: idna<4,>=2.5 in /opt/anaconda3/envs/vqgan/lib/python3.9/site-packages (from requests->webdriver-manager) (3.3)\n",
            "Requirement already satisfied: charset-normalizer~=2.0.0 in /opt/anaconda3/envs/vqgan/lib/python3.9/site-packages (from requests->webdriver-manager) (2.0.9)\n",
            "Requirement already satisfied: urllib3<1.27,>=1.21.1 in /opt/anaconda3/envs/vqgan/lib/python3.9/site-packages (from requests->webdriver-manager) (1.26.7)\n",
            "Installing collected packages: colorama, crayons, configparser, webdriver-manager\n",
            "Successfully installed colorama-0.4.4 configparser-5.2.0 crayons-0.4.0 webdriver-manager-3.5.2\n"
          ]
        }
      ],
      "source": [
        "!pip install webdriver-manager"
      ]
    },
    {
      "cell_type": "code",
      "execution_count": null,
      "id": "78873629",
      "metadata": {
        "id": "78873629",
        "outputId": "c99338cf-ca74-4504-d476-c9099efa0115"
      },
      "outputs": [
        {
          "name": "stdout",
          "output_type": "stream",
          "text": [
            "mkdir: htmls: File exists\n",
            "/Users/cihankaradogan/Desktop/htmls\n"
          ]
        }
      ],
      "source": [
        "!mkdir htmls\n",
        "%cd htmls"
      ]
    },
    {
      "cell_type": "code",
      "execution_count": null,
      "id": "a23ebc71",
      "metadata": {
        "id": "a23ebc71"
      },
      "outputs": [],
      "source": [
        "ls"
      ]
    },
    {
      "cell_type": "code",
      "execution_count": null,
      "id": "c7cf1e40",
      "metadata": {
        "id": "c7cf1e40",
        "outputId": "71407b08-9ad7-468d-af94-3220d19be984"
      },
      "outputs": [
        {
          "name": "stderr",
          "output_type": "stream",
          "text": [
            "\n",
            "\n",
            "====== WebDriver manager ======\n",
            "Current google-chrome version is 97.0.4692\n",
            "Get LATEST chromedriver version for 97.0.4692 google-chrome\n",
            "Driver [/Users/cihankaradogan/.wdm/drivers/chromedriver/mac64/97.0.4692.71/chromedriver] found in cache\n",
            "/var/folders/vd/qz9n4zkd25d0sb53s5ws_27r0000gn/T/ipykernel_1446/3725144908.py:5: DeprecationWarning: executable_path has been deprecated, please pass in a Service object\n",
            "  driver = webdriver.Chrome(ChromeDriverManager().install())\n"
          ]
        },
        {
          "name": "stdout",
          "output_type": "stream",
          "text": [
            "1\n",
            "2\n",
            "3\n",
            "4\n",
            "5\n",
            "6\n",
            "7\n",
            "8\n",
            "9\n",
            "10\n",
            "11\n",
            "12\n",
            "13\n",
            "14\n"
          ]
        }
      ],
      "source": [
        "from selenium import webdriver\n",
        "from webdriver_manager.chrome import ChromeDriverManager\n",
        "import time\n",
        "\n",
        "driver = webdriver.Chrome(ChromeDriverManager().install())\n",
        "driver.get(\"https://www.moviemania.io/phone/genre/war\")\n",
        "\n",
        "ScrollNumber = 15\n",
        "for i in range(1,ScrollNumber):\n",
        "    print(i)\n",
        "    driver.execute_script(\"window.scrollTo(1,99999999999999999999999999999999999)\")\n",
        "    time.sleep(1)\n",
        "\n",
        "file = open('War.html', 'w')\n",
        "file.write(driver.page_source)\n",
        "file.close()\n",
        "\n",
        "driver.close()"
      ]
    },
    {
      "cell_type": "code",
      "execution_count": null,
      "id": "1067cbd0",
      "metadata": {
        "id": "1067cbd0",
        "outputId": "6754c6e8-4409-4d1b-e445-e8968e02d3d5"
      },
      "outputs": [
        {
          "name": "stdout",
          "output_type": "stream",
          "text": [
            "/Users/cihankaradogan/Desktop/htmls\n"
          ]
        }
      ],
      "source": [
        "%cd htmls"
      ]
    },
    {
      "cell_type": "code",
      "execution_count": null,
      "id": "8cbeb460",
      "metadata": {
        "id": "8cbeb460"
      },
      "outputs": [],
      "source": [
        "data = open('War.html','r')"
      ]
    },
    {
      "cell_type": "code",
      "execution_count": null,
      "id": "39250ac8",
      "metadata": {
        "id": "39250ac8"
      },
      "outputs": [],
      "source": [
        "dada = BeautifulSoup(data, 'html.parser')"
      ]
    },
    {
      "cell_type": "code",
      "execution_count": null,
      "id": "8b332352",
      "metadata": {
        "id": "8b332352",
        "outputId": "476874f4-6b3e-4961-ff40-485a47f73707"
      },
      "outputs": [
        {
          "data": {
            "text/plain": [
              "31"
            ]
          },
          "execution_count": 239,
          "metadata": {},
          "output_type": "execute_result"
        }
      ],
      "source": [
        "len(dada.find_all(\"a\", {\"data-images-urls\" : True}))"
      ]
    },
    {
      "cell_type": "code",
      "execution_count": null,
      "id": "a9449a1e",
      "metadata": {
        "id": "a9449a1e"
      },
      "outputs": [],
      "source": [
        "ranges = len(dada.find_all(\"a\", {\"data-images-urls\" : True}))"
      ]
    },
    {
      "cell_type": "code",
      "execution_count": null,
      "id": "b82d5124",
      "metadata": {
        "id": "b82d5124"
      },
      "outputs": [],
      "source": [
        "sep = '\"},{\"w\":670,\"url\":\"'\n",
        "sep2 = '[{\"w\":800,\"url\":\"'\n",
        "poster_links = []"
      ]
    },
    {
      "cell_type": "code",
      "execution_count": null,
      "id": "a9f44169",
      "metadata": {
        "id": "a9f44169"
      },
      "outputs": [],
      "source": [
        "for i in range(0,ranges):\n",
        "    son = str(dada.find_all(\"a\", {\"data-images-urls\" : True})[i].attrs[\"data-images-urls\"])\n",
        "    stripped = son.split(sep, 1)[0]\n",
        "    stripped = stripped.split(sep2, 1)[1]\n",
        "    poster_links.append(stripped)"
      ]
    },
    {
      "cell_type": "code",
      "execution_count": null,
      "id": "ce220176",
      "metadata": {
        "id": "ce220176",
        "outputId": "b9647825-1f2a-4ea5-93e1-3c821f38a1cf"
      },
      "outputs": [
        {
          "data": {
            "text/plain": [
              "['//thumbnails.moviemania.io/phone/movie/600/d97512/800x1423.jpg',\n",
              " '//thumbnails.moviemania.io/phone/movie/857/2ad123/800x1423.jpg',\n",
              " '//thumbnails.moviemania.io/phone/movie/559957/4737f5/800x1423.jpg',\n",
              " '//thumbnails.moviemania.io/phone/movie/530915/60db18/800x1423.jpg',\n",
              " '//thumbnails.moviemania.io/phone/movie/792/cf29f7/800x1423.jpg',\n",
              " '//thumbnails.moviemania.io/phone/movie/530915/93df24/800x1423.jpg',\n",
              " '//thumbnails.moviemania.io/phone/movie/11778/7bfefc/800x1423.jpg',\n",
              " '//thumbnails.moviemania.io/phone/movie/559957/d17f2f/800x1423.jpg',\n",
              " '//thumbnails.moviemania.io/phone/movie/530915/46e710/800x1423.jpg',\n",
              " '//thumbnails.moviemania.io/phone/movie/25237/052a11/800x1423.jpg',\n",
              " '//thumbnails.moviemania.io/phone/movie/14574/284428/800x1423.jpg',\n",
              " '//thumbnails.moviemania.io/phone/movie/559957/abbf7a/800x1423.jpg',\n",
              " '//thumbnails.moviemania.io/phone/movie/8741/7b9380/800x1423.jpg',\n",
              " '//thumbnails.moviemania.io/phone/movie/13321/dc59f6/800x1423.jpg',\n",
              " '//thumbnails.moviemania.io/phone/movie/559957/f766ce/800x1423.jpg',\n",
              " '//thumbnails.moviemania.io/phone/movie/523818/6c6148/800x1423.jpg',\n",
              " '//thumbnails.moviemania.io/phone/movie/10890/67e7e8/800x1423.jpg',\n",
              " '//thumbnails.moviemania.io/phone/movie/11101/957a7c/800x1423.jpg',\n",
              " '//thumbnails.moviemania.io/phone/movie/600/c25f23/800x1423.jpg',\n",
              " '//thumbnails.moviemania.io/phone/movie/203833/a7bac3/800x1423.jpg',\n",
              " '//thumbnails.moviemania.io/phone/movie/203833/657647/800x1423.jpg',\n",
              " '//thumbnails.moviemania.io/phone/movie/283587/e57942/800x1423.jpg',\n",
              " '//thumbnails.moviemania.io/phone/movie/244506/79de63/800x1423.jpg',\n",
              " '//thumbnails.moviemania.io/phone/movie/10592/36cea3/800x1423.jpg',\n",
              " '//thumbnails.moviemania.io/phone/movie/517148/aea7cc/800x1423.jpg',\n",
              " '//thumbnails.moviemania.io/phone/movie/600/d7e2cd/800x1423.jpg',\n",
              " '//thumbnails.moviemania.io/phone/movie/433356/d0087c/800x1423.jpg',\n",
              " '//thumbnails.moviemania.io/phone/movie/10313/4aacfd/800x1423.jpg',\n",
              " '//thumbnails.moviemania.io/phone/movie/24395/576cc4/800x1423.jpg',\n",
              " '//thumbnails.moviemania.io/phone/movie/975/990e64/800x1423.jpg',\n",
              " '//thumbnails.moviemania.io/phone/movie/8741/90b171/800x1423.jpg']"
            ]
          },
          "execution_count": 243,
          "metadata": {},
          "output_type": "execute_result"
        }
      ],
      "source": [
        "poster_links"
      ]
    },
    {
      "cell_type": "code",
      "execution_count": null,
      "id": "8e18308b",
      "metadata": {
        "id": "8e18308b",
        "outputId": "a36d8f8c-b2d1-4503-d277-7ac6c0d9ae47"
      },
      "outputs": [
        {
          "data": {
            "text/plain": [
              "31"
            ]
          },
          "execution_count": 244,
          "metadata": {},
          "output_type": "execute_result"
        }
      ],
      "source": [
        "len(poster_links)"
      ]
    },
    {
      "cell_type": "code",
      "execution_count": null,
      "id": "9b892e43",
      "metadata": {
        "id": "9b892e43",
        "outputId": "8c2d5558-e601-4079-c14d-fa5f04f649bf"
      },
      "outputs": [
        {
          "name": "stdout",
          "output_type": "stream",
          "text": [
            "['https://thumbnails.moviemania.io/phone/movie/600/d97512/800x1423.jpg', 'https://thumbnails.moviemania.io/phone/movie/857/2ad123/800x1423.jpg', 'https://thumbnails.moviemania.io/phone/movie/559957/4737f5/800x1423.jpg', 'https://thumbnails.moviemania.io/phone/movie/530915/60db18/800x1423.jpg', 'https://thumbnails.moviemania.io/phone/movie/792/cf29f7/800x1423.jpg', 'https://thumbnails.moviemania.io/phone/movie/530915/93df24/800x1423.jpg', 'https://thumbnails.moviemania.io/phone/movie/11778/7bfefc/800x1423.jpg', 'https://thumbnails.moviemania.io/phone/movie/559957/d17f2f/800x1423.jpg', 'https://thumbnails.moviemania.io/phone/movie/530915/46e710/800x1423.jpg', 'https://thumbnails.moviemania.io/phone/movie/25237/052a11/800x1423.jpg', 'https://thumbnails.moviemania.io/phone/movie/14574/284428/800x1423.jpg', 'https://thumbnails.moviemania.io/phone/movie/559957/abbf7a/800x1423.jpg', 'https://thumbnails.moviemania.io/phone/movie/8741/7b9380/800x1423.jpg', 'https://thumbnails.moviemania.io/phone/movie/13321/dc59f6/800x1423.jpg', 'https://thumbnails.moviemania.io/phone/movie/559957/f766ce/800x1423.jpg', 'https://thumbnails.moviemania.io/phone/movie/523818/6c6148/800x1423.jpg', 'https://thumbnails.moviemania.io/phone/movie/10890/67e7e8/800x1423.jpg', 'https://thumbnails.moviemania.io/phone/movie/11101/957a7c/800x1423.jpg', 'https://thumbnails.moviemania.io/phone/movie/600/c25f23/800x1423.jpg', 'https://thumbnails.moviemania.io/phone/movie/203833/a7bac3/800x1423.jpg', 'https://thumbnails.moviemania.io/phone/movie/203833/657647/800x1423.jpg', 'https://thumbnails.moviemania.io/phone/movie/283587/e57942/800x1423.jpg', 'https://thumbnails.moviemania.io/phone/movie/244506/79de63/800x1423.jpg', 'https://thumbnails.moviemania.io/phone/movie/10592/36cea3/800x1423.jpg', 'https://thumbnails.moviemania.io/phone/movie/517148/aea7cc/800x1423.jpg', 'https://thumbnails.moviemania.io/phone/movie/600/d7e2cd/800x1423.jpg', 'https://thumbnails.moviemania.io/phone/movie/433356/d0087c/800x1423.jpg', 'https://thumbnails.moviemania.io/phone/movie/10313/4aacfd/800x1423.jpg', 'https://thumbnails.moviemania.io/phone/movie/24395/576cc4/800x1423.jpg', 'https://thumbnails.moviemania.io/phone/movie/975/990e64/800x1423.jpg', 'https://thumbnails.moviemania.io/phone/movie/8741/90b171/800x1423.jpg']\n"
          ]
        }
      ],
      "source": [
        "string = 'https:'\n",
        "my_new_list = [string + x for x in poster_links]\n",
        "print(my_new_list)"
      ]
    },
    {
      "cell_type": "code",
      "execution_count": null,
      "id": "e0050b78",
      "metadata": {
        "id": "e0050b78",
        "outputId": "cdf454a0-3e54-492d-911c-b35a0cf80a7e"
      },
      "outputs": [
        {
          "data": {
            "text/plain": [
              "['https://thumbnails.moviemania.io/phone/movie/600/d97512/800x1423.jpg',\n",
              " 'https://thumbnails.moviemania.io/phone/movie/857/2ad123/800x1423.jpg',\n",
              " 'https://thumbnails.moviemania.io/phone/movie/559957/4737f5/800x1423.jpg',\n",
              " 'https://thumbnails.moviemania.io/phone/movie/530915/60db18/800x1423.jpg',\n",
              " 'https://thumbnails.moviemania.io/phone/movie/792/cf29f7/800x1423.jpg',\n",
              " 'https://thumbnails.moviemania.io/phone/movie/530915/93df24/800x1423.jpg',\n",
              " 'https://thumbnails.moviemania.io/phone/movie/11778/7bfefc/800x1423.jpg',\n",
              " 'https://thumbnails.moviemania.io/phone/movie/559957/d17f2f/800x1423.jpg',\n",
              " 'https://thumbnails.moviemania.io/phone/movie/530915/46e710/800x1423.jpg',\n",
              " 'https://thumbnails.moviemania.io/phone/movie/25237/052a11/800x1423.jpg',\n",
              " 'https://thumbnails.moviemania.io/phone/movie/14574/284428/800x1423.jpg',\n",
              " 'https://thumbnails.moviemania.io/phone/movie/559957/abbf7a/800x1423.jpg',\n",
              " 'https://thumbnails.moviemania.io/phone/movie/8741/7b9380/800x1423.jpg',\n",
              " 'https://thumbnails.moviemania.io/phone/movie/13321/dc59f6/800x1423.jpg',\n",
              " 'https://thumbnails.moviemania.io/phone/movie/559957/f766ce/800x1423.jpg',\n",
              " 'https://thumbnails.moviemania.io/phone/movie/523818/6c6148/800x1423.jpg',\n",
              " 'https://thumbnails.moviemania.io/phone/movie/10890/67e7e8/800x1423.jpg',\n",
              " 'https://thumbnails.moviemania.io/phone/movie/11101/957a7c/800x1423.jpg',\n",
              " 'https://thumbnails.moviemania.io/phone/movie/600/c25f23/800x1423.jpg',\n",
              " 'https://thumbnails.moviemania.io/phone/movie/203833/a7bac3/800x1423.jpg',\n",
              " 'https://thumbnails.moviemania.io/phone/movie/203833/657647/800x1423.jpg',\n",
              " 'https://thumbnails.moviemania.io/phone/movie/283587/e57942/800x1423.jpg',\n",
              " 'https://thumbnails.moviemania.io/phone/movie/244506/79de63/800x1423.jpg',\n",
              " 'https://thumbnails.moviemania.io/phone/movie/10592/36cea3/800x1423.jpg',\n",
              " 'https://thumbnails.moviemania.io/phone/movie/517148/aea7cc/800x1423.jpg',\n",
              " 'https://thumbnails.moviemania.io/phone/movie/600/d7e2cd/800x1423.jpg',\n",
              " 'https://thumbnails.moviemania.io/phone/movie/433356/d0087c/800x1423.jpg',\n",
              " 'https://thumbnails.moviemania.io/phone/movie/10313/4aacfd/800x1423.jpg',\n",
              " 'https://thumbnails.moviemania.io/phone/movie/24395/576cc4/800x1423.jpg',\n",
              " 'https://thumbnails.moviemania.io/phone/movie/975/990e64/800x1423.jpg',\n",
              " 'https://thumbnails.moviemania.io/phone/movie/8741/90b171/800x1423.jpg']"
            ]
          },
          "execution_count": 246,
          "metadata": {},
          "output_type": "execute_result"
        }
      ],
      "source": [
        "my_new_list"
      ]
    },
    {
      "cell_type": "code",
      "execution_count": null,
      "id": "32df3a7a",
      "metadata": {
        "id": "32df3a7a",
        "outputId": "2cd15567-38fd-42d4-a856-4c04df3b1791"
      },
      "outputs": [
        {
          "data": {
            "text/plain": [
              "31"
            ]
          },
          "execution_count": 247,
          "metadata": {},
          "output_type": "execute_result"
        }
      ],
      "source": [
        "len(my_new_list)"
      ]
    },
    {
      "cell_type": "code",
      "execution_count": null,
      "id": "f4741622",
      "metadata": {
        "id": "f4741622"
      },
      "outputs": [],
      "source": [
        "res = []\n",
        "for i in my_new_list:\n",
        "    if i not in res:\n",
        "        res.append(i)"
      ]
    },
    {
      "cell_type": "code",
      "execution_count": null,
      "id": "a0188791",
      "metadata": {
        "id": "a0188791",
        "outputId": "8721e83d-f605-4d38-d89c-66d20c18fafe"
      },
      "outputs": [
        {
          "data": {
            "text/plain": [
              "31"
            ]
          },
          "execution_count": 249,
          "metadata": {},
          "output_type": "execute_result"
        }
      ],
      "source": [
        "len(res)"
      ]
    },
    {
      "cell_type": "code",
      "execution_count": null,
      "id": "207f23a1",
      "metadata": {
        "id": "207f23a1",
        "outputId": "09523256-7634-44bc-a40c-6eea052cd81e"
      },
      "outputs": [
        {
          "data": {
            "text/plain": [
              "['https://thumbnails.moviemania.io/phone/movie/600/d97512/800x1423.jpg',\n",
              " 'https://thumbnails.moviemania.io/phone/movie/857/2ad123/800x1423.jpg',\n",
              " 'https://thumbnails.moviemania.io/phone/movie/559957/4737f5/800x1423.jpg',\n",
              " 'https://thumbnails.moviemania.io/phone/movie/530915/60db18/800x1423.jpg',\n",
              " 'https://thumbnails.moviemania.io/phone/movie/792/cf29f7/800x1423.jpg',\n",
              " 'https://thumbnails.moviemania.io/phone/movie/530915/93df24/800x1423.jpg',\n",
              " 'https://thumbnails.moviemania.io/phone/movie/11778/7bfefc/800x1423.jpg',\n",
              " 'https://thumbnails.moviemania.io/phone/movie/559957/d17f2f/800x1423.jpg',\n",
              " 'https://thumbnails.moviemania.io/phone/movie/530915/46e710/800x1423.jpg',\n",
              " 'https://thumbnails.moviemania.io/phone/movie/25237/052a11/800x1423.jpg',\n",
              " 'https://thumbnails.moviemania.io/phone/movie/14574/284428/800x1423.jpg',\n",
              " 'https://thumbnails.moviemania.io/phone/movie/559957/abbf7a/800x1423.jpg',\n",
              " 'https://thumbnails.moviemania.io/phone/movie/8741/7b9380/800x1423.jpg',\n",
              " 'https://thumbnails.moviemania.io/phone/movie/13321/dc59f6/800x1423.jpg',\n",
              " 'https://thumbnails.moviemania.io/phone/movie/559957/f766ce/800x1423.jpg',\n",
              " 'https://thumbnails.moviemania.io/phone/movie/523818/6c6148/800x1423.jpg',\n",
              " 'https://thumbnails.moviemania.io/phone/movie/10890/67e7e8/800x1423.jpg',\n",
              " 'https://thumbnails.moviemania.io/phone/movie/11101/957a7c/800x1423.jpg',\n",
              " 'https://thumbnails.moviemania.io/phone/movie/600/c25f23/800x1423.jpg',\n",
              " 'https://thumbnails.moviemania.io/phone/movie/203833/a7bac3/800x1423.jpg',\n",
              " 'https://thumbnails.moviemania.io/phone/movie/203833/657647/800x1423.jpg',\n",
              " 'https://thumbnails.moviemania.io/phone/movie/283587/e57942/800x1423.jpg',\n",
              " 'https://thumbnails.moviemania.io/phone/movie/244506/79de63/800x1423.jpg',\n",
              " 'https://thumbnails.moviemania.io/phone/movie/10592/36cea3/800x1423.jpg',\n",
              " 'https://thumbnails.moviemania.io/phone/movie/517148/aea7cc/800x1423.jpg',\n",
              " 'https://thumbnails.moviemania.io/phone/movie/600/d7e2cd/800x1423.jpg',\n",
              " 'https://thumbnails.moviemania.io/phone/movie/433356/d0087c/800x1423.jpg',\n",
              " 'https://thumbnails.moviemania.io/phone/movie/10313/4aacfd/800x1423.jpg',\n",
              " 'https://thumbnails.moviemania.io/phone/movie/24395/576cc4/800x1423.jpg',\n",
              " 'https://thumbnails.moviemania.io/phone/movie/975/990e64/800x1423.jpg',\n",
              " 'https://thumbnails.moviemania.io/phone/movie/8741/90b171/800x1423.jpg']"
            ]
          },
          "execution_count": 250,
          "metadata": {},
          "output_type": "execute_result"
        }
      ],
      "source": [
        "res"
      ]
    },
    {
      "cell_type": "code",
      "execution_count": null,
      "id": "1d869acf",
      "metadata": {
        "id": "1d869acf"
      },
      "outputs": [],
      "source": [
        "textfile = open(\"War.txt\", \"w\")\n",
        "for element in res:\n",
        "    textfile.write(element + \"\\n\")\n",
        "textfile.close()"
      ]
    },
    {
      "cell_type": "markdown",
      "source": [
        "# **Combining all of them**"
      ],
      "metadata": {
        "id": "KM_Ezr4UxaPC"
      },
      "id": "KM_Ezr4UxaPC"
    },
    {
      "cell_type": "code",
      "execution_count": null,
      "id": "79e856a0",
      "metadata": {
        "id": "79e856a0"
      },
      "outputs": [],
      "source": [
        "with open('Comedy.txt') as f:\n",
        "    Comedy = f.readlines()\n",
        "with open('Crime.txt') as f:\n",
        "    Crime = f.readlines()\n",
        "with open('Sci-Fi.txt') as f:\n",
        "    Sci_Fi = f.readlines()\n",
        "with open('Romance.txt') as f:\n",
        "    Romance = f.readlines()\n",
        "with open('Horror.txt') as f:\n",
        "    Horror = f.readlines()\n",
        "with open('Mystery.txt') as f:\n",
        "    Mystery = f.readlines()\n",
        "with open('Fantasy.txt') as f:\n",
        "    Fantasy = f.readlines()\n",
        "with open('Drama.txt') as f:\n",
        "    Drama = f.readlines()\n",
        "with open('Thriller.txt') as f:\n",
        "    Thriller = f.readlines()\n",
        "with open('War.txt') as f:\n",
        "    War = f.readlines()"
      ]
    },
    {
      "cell_type": "code",
      "execution_count": null,
      "id": "6a7464e4",
      "metadata": {
        "id": "6a7464e4"
      },
      "outputs": [],
      "source": [
        "Final = Comedy + Crime + Sci_Fi + Romance + Horror + Mystery + Fantasy + Drama + Thriller + War"
      ]
    },
    {
      "cell_type": "code",
      "execution_count": null,
      "id": "9128759e",
      "metadata": {
        "id": "9128759e",
        "outputId": "518c3b74-8764-4b0d-db8a-d240c68c7d91"
      },
      "outputs": [
        {
          "data": {
            "text/plain": [
              "7887"
            ]
          },
          "execution_count": 14,
          "metadata": {},
          "output_type": "execute_result"
        }
      ],
      "source": [
        "len(Final)"
      ]
    },
    {
      "cell_type": "code",
      "execution_count": null,
      "id": "5cb12d12",
      "metadata": {
        "id": "5cb12d12"
      },
      "outputs": [],
      "source": [
        "All = []\n",
        "for i in Final:\n",
        "    if i not in All:\n",
        "        All.append(i)"
      ]
    },
    {
      "cell_type": "code",
      "execution_count": null,
      "id": "da230a3d",
      "metadata": {
        "id": "da230a3d",
        "outputId": "9395a926-1827-4e33-9b76-91589967e92f"
      },
      "outputs": [
        {
          "data": {
            "text/plain": [
              "5485"
            ]
          },
          "execution_count": 16,
          "metadata": {},
          "output_type": "execute_result"
        }
      ],
      "source": [
        "len(All)"
      ]
    },
    {
      "cell_type": "code",
      "execution_count": null,
      "id": "e6f44218",
      "metadata": {
        "id": "e6f44218"
      },
      "outputs": [],
      "source": [
        "textfile = open(\"All2.txt\", \"w\")\n",
        "for element in All:\n",
        "    textfile.write(element)\n",
        "textfile.close()"
      ]
    },
    {
      "cell_type": "code",
      "execution_count": null,
      "id": "3a3ce463",
      "metadata": {
        "id": "3a3ce463"
      },
      "outputs": [],
      "source": [
        ""
      ]
    }
  ],
  "metadata": {
    "kernelspec": {
      "display_name": "Python 3 (ipykernel)",
      "language": "python",
      "name": "python3"
    },
    "language_info": {
      "codemirror_mode": {
        "name": "ipython",
        "version": 3
      },
      "file_extension": ".py",
      "mimetype": "text/x-python",
      "name": "python",
      "nbconvert_exporter": "python",
      "pygments_lexer": "ipython3",
      "version": "3.9.7"
    },
    "colab": {
      "name": "Scraper.ipynb",
      "provenance": [],
      "include_colab_link": true
    }
  },
  "nbformat": 4,
  "nbformat_minor": 5
}